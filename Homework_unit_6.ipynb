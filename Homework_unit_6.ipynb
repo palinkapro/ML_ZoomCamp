{
  "nbformat": 4,
  "nbformat_minor": 0,
  "metadata": {
    "kernelspec": {
      "display_name": "Python 3",
      "language": "python",
      "name": "python3"
    },
    "language_info": {
      "codemirror_mode": {
        "name": "ipython",
        "version": 3
      },
      "file_extension": ".py",
      "mimetype": "text/x-python",
      "name": "python",
      "nbconvert_exporter": "python",
      "pygments_lexer": "ipython3",
      "version": "3.7.3"
    },
    "colab": {
      "name": "Homework-unit_6.ipynb",
      "provenance": [],
      "include_colab_link": true
    }
  },
  "cells": [
    {
      "cell_type": "markdown",
      "metadata": {
        "id": "view-in-github",
        "colab_type": "text"
      },
      "source": [
        "<a href=\"https://colab.research.google.com/github/palinkapro/ML_ZoomCamp/blob/main/Homework_unit_6.ipynb\" target=\"_parent\"><img src=\"https://colab.research.google.com/assets/colab-badge.svg\" alt=\"Open In Colab\"/></a>"
      ]
    },
    {
      "cell_type": "markdown",
      "metadata": {
        "id": "5kkd9CPwnEEF"
      },
      "source": [
        "## 6.10 Homework\n",
        "\n",
        "The goal of this homework is to create a tree-based regression model for prediction apartment prices (column `'price'`).\n",
        "\n",
        "In this homework we'll again use the New York City Airbnb Open Data dataset - the same one we used in homework 2 and 3.\n",
        "\n",
        "You can take it from [Kaggle](https://www.kaggle.com/dgomonov/new-york-city-airbnb-open-data?select=AB_NYC_2019.csv)\n",
        "or download from [here](https://raw.githubusercontent.com/alexeygrigorev/datasets/master/AB_NYC_2019.csv)\n",
        "if you don't want to sign up to Kaggle.\n",
        "\n",
        "Let's load the data:"
      ]
    },
    {
      "cell_type": "code",
      "metadata": {
        "id": "bfva9TEgnEEH"
      },
      "source": [
        "import pandas as pd\n",
        "import numpy as np\n",
        "\n",
        "import matplotlib.pyplot as plt\n",
        "import seaborn as sns\n",
        "\n",
        "%matplotlib inline"
      ],
      "execution_count": 1,
      "outputs": []
    },
    {
      "cell_type": "code",
      "metadata": {
        "colab": {
          "base_uri": "https://localhost:8080/"
        },
        "id": "PSxpoI8HrJTf",
        "outputId": "00c32624-2dbe-4235-8213-75c2e3456493"
      },
      "source": [
        "!gdown 'https://raw.githubusercontent.com/alexeygrigorev/datasets/master/AB_NYC_2019.csv'"
      ],
      "execution_count": 2,
      "outputs": [
        {
          "output_type": "stream",
          "name": "stdout",
          "text": [
            "Downloading...\n",
            "From: https://raw.githubusercontent.com/alexeygrigorev/datasets/master/AB_NYC_2019.csv\n",
            "To: /content/AB_NYC_2019.csv\n",
            "\r  0% 0.00/2.36M [00:00<?, ?B/s]\r6.27MB [00:00, 58.1MB/s]       \r7.08MB [00:00, 43.1MB/s]\n"
          ]
        }
      ]
    },
    {
      "cell_type": "code",
      "metadata": {
        "id": "JSb2nuvinEEJ"
      },
      "source": [
        "columns = [\n",
        "    'neighbourhood_group', 'room_type', 'latitude', 'longitude',\n",
        "    'minimum_nights', 'number_of_reviews','reviews_per_month',\n",
        "    'calculated_host_listings_count', 'availability_365',\n",
        "    'price'\n",
        "]\n",
        "\n",
        "df = pd.read_csv('AB_NYC_2019.csv', usecols=columns)\n",
        "df.reviews_per_month = df.reviews_per_month.fillna(0)"
      ],
      "execution_count": 3,
      "outputs": []
    },
    {
      "cell_type": "markdown",
      "metadata": {
        "id": "huxEsyrRnEEJ"
      },
      "source": [
        "* Apply the log tranform to `price`\n",
        "* Do train/validation/test split with 60%/20%/20% distribution. \n",
        "* Use the `train_test_split` function and set the `random_state` parameter to 1"
      ]
    },
    {
      "cell_type": "code",
      "metadata": {
        "colab": {
          "base_uri": "https://localhost:8080/"
        },
        "id": "h2YGsghUnEEK",
        "outputId": "3cf8db54-3e0e-4458-f398-0192f752b977"
      },
      "source": [
        "from sklearn.model_selection import train_test_split\n",
        "df_train_full, df_test = train_test_split(df, test_size=0.2, random_state=1)\n",
        "df_train, df_val = train_test_split(df_train_full, test_size=0.25, random_state=1)\n",
        "\n",
        "y_train = np.log1p(df_train.price.values)\n",
        "y_val = np.log1p(df_val.price.values)\n",
        "\n",
        "del df_train['price']\n",
        "del df_val['price']\n",
        "\n",
        "len(df_train), len(df_val), len(df_test)\n"
      ],
      "execution_count": 4,
      "outputs": [
        {
          "output_type": "execute_result",
          "data": {
            "text/plain": [
              "(29337, 9779, 9779)"
            ]
          },
          "metadata": {},
          "execution_count": 4
        }
      ]
    },
    {
      "cell_type": "markdown",
      "metadata": {
        "id": "YBCZ_kKTnEEK"
      },
      "source": [
        "Now, use `DictVectorizer` to turn train and validation into matrices:"
      ]
    },
    {
      "cell_type": "code",
      "metadata": {
        "id": "TfbogXJXnEEL"
      },
      "source": [
        "from sklearn.feature_extraction import DictVectorizer\n",
        "\n",
        "dict_train = df_train.fillna(0).to_dict(orient='records')\n",
        "dict_val = df_val.fillna(0).to_dict(orient='records')\n",
        "\n",
        "dv = DictVectorizer(sparse=False)\n",
        "\n",
        "X_train = dv.fit_transform(dict_train)\n",
        "X_val = dv.transform(dict_val)\n"
      ],
      "execution_count": 5,
      "outputs": []
    },
    {
      "cell_type": "markdown",
      "metadata": {
        "id": "fO8Ye2ShnEEM"
      },
      "source": [
        "## Question 1\n",
        "\n",
        "Let's train a decision tree regressor to predict the price variable. \n",
        "\n",
        "* Train a model with `max_depth=1`"
      ]
    },
    {
      "cell_type": "code",
      "metadata": {
        "colab": {
          "base_uri": "https://localhost:8080/"
        },
        "id": "o2hUoTl2nEEN",
        "outputId": "34246a85-1365-4863-a486-1febab810883"
      },
      "source": [
        "from sklearn.tree import DecisionTreeRegressor\n",
        "\n",
        "dt = DecisionTreeRegressor(max_depth=1)\n",
        "dt.fit(X_train, y_train)"
      ],
      "execution_count": 6,
      "outputs": [
        {
          "output_type": "execute_result",
          "data": {
            "text/plain": [
              "DecisionTreeRegressor(ccp_alpha=0.0, criterion='mse', max_depth=1,\n",
              "                      max_features=None, max_leaf_nodes=None,\n",
              "                      min_impurity_decrease=0.0, min_impurity_split=None,\n",
              "                      min_samples_leaf=1, min_samples_split=2,\n",
              "                      min_weight_fraction_leaf=0.0, presort='deprecated',\n",
              "                      random_state=None, splitter='best')"
            ]
          },
          "metadata": {},
          "execution_count": 6
        }
      ]
    },
    {
      "cell_type": "markdown",
      "metadata": {
        "id": "K0YYCGftnEEN"
      },
      "source": [
        "Which feature is used for splitting the data?\n",
        "\n",
        "* `room_type`\n",
        "* `neighbourhood_group`\n",
        "* `number_of_reviews`\n",
        "* `reviews_per_month`"
      ]
    },
    {
      "cell_type": "markdown",
      "metadata": {
        "id": "NJdKFj7Dv_0c"
      },
      "source": [
        "**Answer:**  room_type"
      ]
    },
    {
      "cell_type": "code",
      "metadata": {
        "colab": {
          "base_uri": "https://localhost:8080/",
          "height": 37
        },
        "id": "wJPFkSyxsFb6",
        "outputId": "3fd7cdf5-4e0a-44ab-9de2-30ed3b8ef81f"
      },
      "source": [
        "dv.feature_names_[np.argmax(dt.feature_importances_)]"
      ],
      "execution_count": 7,
      "outputs": [
        {
          "output_type": "execute_result",
          "data": {
            "application/vnd.google.colaboratory.intrinsic+json": {
              "type": "string"
            },
            "text/plain": [
              "'room_type=Entire home/apt'"
            ]
          },
          "metadata": {},
          "execution_count": 7
        }
      ]
    },
    {
      "cell_type": "code",
      "metadata": {
        "colab": {
          "base_uri": "https://localhost:8080/",
          "height": 299
        },
        "id": "BlD2dDWlxN_W",
        "outputId": "54f77588-b6bb-4d76-b5c7-0d1124615c47"
      },
      "source": [
        "from sklearn import tree\n",
        "tree.plot_tree(dt)"
      ],
      "execution_count": 8,
      "outputs": [
        {
          "output_type": "execute_result",
          "data": {
            "text/plain": [
              "[Text(167.4, 163.07999999999998, 'X[12] <= 0.5\\nmse = 0.485\\nsamples = 29337\\nvalue = 4.739'),\n",
              " Text(83.7, 54.360000000000014, 'mse = 0.284\\nsamples = 14041\\nvalue = 4.292'),\n",
              " Text(251.10000000000002, 54.360000000000014, 'mse = 0.319\\nsamples = 15296\\nvalue = 5.149')]"
            ]
          },
          "metadata": {},
          "execution_count": 8
        },
        {
          "output_type": "display_data",
          "data": {
            "image/png": "[encoded data removed]",
            "text/plain": [
              "<Figure size 432x288 with 1 Axes>"
            ]
          },
          "metadata": {
            "needs_background": "light"
          }
        }
      ]
    },
    {
      "cell_type": "markdown",
      "metadata": {
        "id": "0ZBuxLy-nEEO"
      },
      "source": [
        "## Question 2\n",
        "\n",
        "Train a random forest model with these parameters:\n",
        "\n",
        "* `n_estimators=10`\n",
        "* `random_state=1`\n",
        "* `n_jobs=-1`  (optional - to make training faster)"
      ]
    },
    {
      "cell_type": "code",
      "metadata": {
        "colab": {
          "base_uri": "https://localhost:8080/"
        },
        "id": "Y5lekkkmnEEP",
        "outputId": "1ad864d8-7e8c-4c23-c211-31dd0c35b0db"
      },
      "source": [
        "from sklearn.ensemble import RandomForestRegressor\n",
        "rf = RandomForestRegressor(n_estimators=10, random_state=1, n_jobs=-1)\n",
        "rf.fit(X_train, y_train)"
      ],
      "execution_count": 9,
      "outputs": [
        {
          "output_type": "execute_result",
          "data": {
            "text/plain": [
              "RandomForestRegressor(bootstrap=True, ccp_alpha=0.0, criterion='mse',\n",
              "                      max_depth=None, max_features='auto', max_leaf_nodes=None,\n",
              "                      max_samples=None, min_impurity_decrease=0.0,\n",
              "                      min_impurity_split=None, min_samples_leaf=1,\n",
              "                      min_samples_split=2, min_weight_fraction_leaf=0.0,\n",
              "                      n_estimators=10, n_jobs=-1, oob_score=False,\n",
              "                      random_state=1, verbose=0, warm_start=False)"
            ]
          },
          "metadata": {},
          "execution_count": 9
        }
      ]
    },
    {
      "cell_type": "code",
      "metadata": {
        "colab": {
          "base_uri": "https://localhost:8080/"
        },
        "id": "K7wKVVoIlyPA",
        "outputId": "1d2a3a2a-648b-4fa6-c263-42c4f6a8c956"
      },
      "source": [
        "from sklearn.metrics import mean_squared_error\n",
        "\n",
        "mean_squared_error(y_val, rf.predict(X_val), squared=False)"
      ],
      "execution_count": 10,
      "outputs": [
        {
          "output_type": "execute_result",
          "data": {
            "text/plain": [
              "0.460888788095762"
            ]
          },
          "metadata": {},
          "execution_count": 10
        }
      ]
    },
    {
      "cell_type": "markdown",
      "metadata": {
        "id": "BSlAdFwOnEEP"
      },
      "source": [
        "What's the RMSE of this model on validation?\n",
        "\n",
        "* 0.059\n",
        "* 0.259\n",
        "* 0.459\n",
        "* 0.659"
      ]
    },
    {
      "cell_type": "markdown",
      "metadata": {
        "id": "QgQ6rMDpwFmx"
      },
      "source": [
        "**Answer:** 0.459"
      ]
    },
    {
      "cell_type": "markdown",
      "metadata": {
        "id": "d_rTkA5XnEEQ"
      },
      "source": [
        "## Question 3\n",
        "\n",
        "Now let's experiment with the `n_estimators` parameter\n",
        "\n",
        "* Try different values of this parameter from 10 to 200 with step 10\n",
        "* Set `random_state` to `1`\n",
        "* Evaluate the model on the validation dataset"
      ]
    },
    {
      "cell_type": "code",
      "metadata": {
        "colab": {
          "base_uri": "https://localhost:8080/"
        },
        "id": "IM3dtfr2nEER",
        "outputId": "3d93ce7c-56de-4e6b-cf3d-1fe5b9d41b3b"
      },
      "source": [
        "metrics = []\n",
        "\n",
        "for i in range(10, 201, 10):\n",
        "    rf = RandomForestRegressor(n_estimators=i, random_state=1)\n",
        "    rf.fit(X_train, y_train)\n",
        "    y_pred = rf.predict(X_val)\n",
        "    rmse = mean_squared_error(y_val, y_pred, squared=False)\n",
        "    print('%s -> %.3f' % (i, rmse))\n",
        "    metrics.append(rmse)"
      ],
      "execution_count": 11,
      "outputs": [
        {
          "output_type": "stream",
          "name": "stdout",
          "text": [
            "10 -> 0.461\n",
            "20 -> 0.447\n",
            "30 -> 0.444\n",
            "40 -> 0.443\n",
            "50 -> 0.442\n",
            "60 -> 0.441\n",
            "70 -> 0.441\n",
            "80 -> 0.441\n",
            "90 -> 0.440\n",
            "100 -> 0.440\n",
            "110 -> 0.439\n",
            "120 -> 0.439\n",
            "130 -> 0.439\n",
            "140 -> 0.439\n",
            "150 -> 0.439\n",
            "160 -> 0.439\n",
            "170 -> 0.439\n",
            "180 -> 0.439\n",
            "190 -> 0.439\n",
            "200 -> 0.439\n"
          ]
        }
      ]
    },
    {
      "cell_type": "code",
      "metadata": {
        "id": "RjVuHYRtnBEx"
      },
      "source": [
        "#120"
      ],
      "execution_count": null,
      "outputs": []
    },
    {
      "cell_type": "code",
      "metadata": {
        "colab": {
          "base_uri": "https://localhost:8080/",
          "height": 295
        },
        "id": "ZpEBTCTVonsp",
        "outputId": "2b907d9c-6372-4b71-88c7-9b091ade5877"
      },
      "source": [
        "plt.figure(figsize=(6, 4))\n",
        "\n",
        "plt.plot(range(10, 201, 10), metrics, color='black')\n",
        "plt.xticks(range(0, 201, 50))\n",
        "\n",
        "plt.title('Number of trees vs RMSE')\n",
        "plt.xlabel('Number of trees')\n",
        "plt.ylabel('RMSE')\n",
        "\n",
        "# plt.savefig('ch06-figures/06_random_forest_n_estimators.svg')\n",
        "\n",
        "plt.show()"
      ],
      "execution_count": 12,
      "outputs": [
        {
          "output_type": "display_data",
          "data": {
            "image/png": "[encoded data removed]",
            "text/plain": [
              "<Figure size 432x288 with 1 Axes>"
            ]
          },
          "metadata": {
            "needs_background": "light"
          }
        }
      ]
    },
    {
      "cell_type": "markdown",
      "metadata": {
        "id": "DKTDf5DxnEER"
      },
      "source": [
        "After which value of `n_estimators` does RMSE stop improving?\n",
        "\n",
        "- 10\n",
        "- 50\n",
        "- 70\n",
        "- 120"
      ]
    },
    {
      "cell_type": "markdown",
      "metadata": {
        "id": "rn6zFHFRxIVl"
      },
      "source": [
        "**Answer:** 120"
      ]
    },
    {
      "cell_type": "markdown",
      "metadata": {
        "id": "4yp8VrHpnEES"
      },
      "source": [
        "## Question 4\n",
        "\n",
        "Let's select the best `max_depth`:\n",
        "\n",
        "* Try different values of `max_depth`: `[10, 15, 20, 25]`\n",
        "* For each of these values, try different values of `n_estimators` from 10 till 200 (with step 10)\n",
        "* Fix the random seed: `random_state=1`"
      ]
    },
    {
      "cell_type": "code",
      "metadata": {
        "colab": {
          "base_uri": "https://localhost:8080/"
        },
        "id": "4ZFnh-ZGnEET",
        "outputId": "66f87c10-ed2e-41bf-e06c-62c82604d1fe"
      },
      "source": [
        "all_metrics = {}\n",
        "for depth in [10, 15, 20, 25]:\n",
        "    print('depth: %s' % depth)\n",
        "    metrics = []\n",
        "\n",
        "    for i in range(10, 201, 10):\n",
        "        rf = RandomForestRegressor(n_estimators=i, max_depth=depth, random_state=1)\n",
        "        rf.fit(X_train, y_train)\n",
        "        y_pred = rf.predict(X_val)\n",
        "        rmse = mean_squared_error(y_val, y_pred)\n",
        "        print('%s -> %.3f' % (i, rmse))\n",
        "        metrics.append(rmse)\n",
        "    \n",
        "    all_metrics[depth] = metrics\n",
        "    print()\n"
      ],
      "execution_count": 14,
      "outputs": [
        {
          "output_type": "stream",
          "name": "stdout",
          "text": [
            "depth: 10\n",
            "10 -> 0.198\n",
            "20 -> 0.195\n",
            "30 -> 0.195\n",
            "40 -> 0.195\n",
            "50 -> 0.194\n",
            "60 -> 0.194\n",
            "70 -> 0.194\n",
            "80 -> 0.194\n",
            "90 -> 0.194\n",
            "100 -> 0.194\n",
            "110 -> 0.194\n",
            "120 -> 0.193\n",
            "130 -> 0.194\n",
            "140 -> 0.194\n",
            "150 -> 0.193\n",
            "160 -> 0.193\n",
            "170 -> 0.193\n",
            "180 -> 0.193\n",
            "190 -> 0.193\n",
            "200 -> 0.193\n",
            "\n",
            "depth: 15\n",
            "10 -> 0.203\n",
            "20 -> 0.195\n",
            "30 -> 0.193\n",
            "40 -> 0.193\n",
            "50 -> 0.192\n",
            "60 -> 0.192\n",
            "70 -> 0.191\n",
            "80 -> 0.191\n",
            "90 -> 0.191\n",
            "100 -> 0.191\n",
            "110 -> 0.190\n",
            "120 -> 0.190\n",
            "130 -> 0.190\n",
            "140 -> 0.190\n",
            "150 -> 0.190\n",
            "160 -> 0.190\n",
            "170 -> 0.190\n",
            "180 -> 0.190\n",
            "190 -> 0.190\n",
            "200 -> 0.190\n",
            "\n",
            "depth: 20\n",
            "10 -> 0.210\n",
            "20 -> 0.199\n",
            "30 -> 0.197\n",
            "40 -> 0.196\n",
            "50 -> 0.195\n",
            "60 -> 0.194\n",
            "70 -> 0.194\n",
            "80 -> 0.194\n",
            "90 -> 0.193\n",
            "100 -> 0.193\n",
            "110 -> 0.192\n",
            "120 -> 0.192\n",
            "130 -> 0.192\n",
            "140 -> 0.192\n",
            "150 -> 0.192\n",
            "160 -> 0.192\n",
            "170 -> 0.192\n",
            "180 -> 0.192\n",
            "190 -> 0.192\n",
            "200 -> 0.192\n",
            "\n",
            "depth: 25\n",
            "10 -> 0.212\n",
            "20 -> 0.201\n",
            "30 -> 0.198\n",
            "40 -> 0.196\n",
            "50 -> 0.195\n",
            "60 -> 0.195\n",
            "70 -> 0.194\n",
            "80 -> 0.194\n",
            "90 -> 0.194\n",
            "100 -> 0.194\n",
            "110 -> 0.193\n",
            "120 -> 0.193\n",
            "130 -> 0.193\n",
            "140 -> 0.193\n",
            "150 -> 0.193\n",
            "160 -> 0.193\n",
            "170 -> 0.192\n",
            "180 -> 0.193\n",
            "190 -> 0.192\n",
            "200 -> 0.192\n",
            "\n"
          ]
        }
      ]
    },
    {
      "cell_type": "markdown",
      "metadata": {
        "id": "6TbXF5rHnEET"
      },
      "source": [
        "What's the best `max_depth`:\n",
        "\n",
        "* 10\n",
        "* 15\n",
        "* 20\n",
        "* 25\n",
        "\n",
        "Bonus question (not graded):\n",
        "\n",
        "Will the answer be different if we change the seed for the model?"
      ]
    },
    {
      "cell_type": "code",
      "metadata": {
        "colab": {
          "base_uri": "https://localhost:8080/",
          "height": 295
        },
        "id": "PhBf_hs52dbx",
        "outputId": "a0fd5fd5-de75-4104-9877-50ff7c3361ee"
      },
      "source": [
        "plt.figure(figsize=(6, 4))\n",
        "\n",
        "num_trees = list(range(10, 201, 10))\n",
        "\n",
        "plt.plot(num_trees, all_metrics[10], label='depth=10', color='black', linestyle='dotted')\n",
        "plt.plot(num_trees, all_metrics[15], label='depth=15', color='black', linestyle='dashed')\n",
        "plt.plot(num_trees, all_metrics[20], label='depth=20', color='black', linestyle='solid')\n",
        "plt.plot(num_trees, all_metrics[25], label='depth=25', color='black', linestyle='dashdot')\n",
        "    \n",
        "plt.xticks(range(0, 201, 50))\n",
        "plt.legend()\n",
        "\n",
        "plt.title('Number of trees vs RMSE')\n",
        "plt.xlabel('Number of trees')\n",
        "plt.ylabel('RMSE')\n",
        "\n",
        "plt.show()"
      ],
      "execution_count": 17,
      "outputs": [
        {
          "output_type": "display_data",
          "data": {
            "image/png": "[encoded data removed]",
            "text/plain": [
              "<Figure size 432x288 with 1 Axes>"
            ]
          },
          "metadata": {
            "needs_background": "light"
          }
        }
      ]
    },
    {
      "cell_type": "markdown",
      "metadata": {
        "id": "0ki5BHY3xPJg"
      },
      "source": [
        "**Answer:**  15.    \n",
        "Yes, it would be a different split"
      ]
    },
    {
      "cell_type": "markdown",
      "metadata": {
        "id": "ZQFngeuAnEET"
      },
      "source": [
        "## Question 5\n",
        "\n",
        "We can extract feature importance information from tree-based models. \n",
        "\n",
        "At each step of the decision tree learning algorith, it finds the best split. \n",
        "When doint it, we can calculate \"gain\" - the reduction in impurity before and after the split. \n",
        "This gain is quite useful in understanding what are the imporatant features \n",
        "for tree-based models.\n",
        "\n",
        "In Scikit-Learn, tree-based models contain this information in the `feature_importances_` field. \n",
        "\n",
        "For this homework question, we'll find the most important feature:\n",
        "\n",
        "* Train the model with these parametes:\n",
        "    * `n_estimators=10`,\n",
        "    * `max_depth=20`,\n",
        "    * `random_state=1`,\n",
        "    * `n_jobs=-1` (optional)\n",
        "* Get the feature importance information from this model"
      ]
    },
    {
      "cell_type": "code",
      "metadata": {
        "colab": {
          "base_uri": "https://localhost:8080/"
        },
        "id": "KTNVQ9rDnEEU",
        "outputId": "6871856e-acd4-4560-ee88-e4d234e1836c"
      },
      "source": [
        "rf = RandomForestRegressor(n_estimators=10, max_depth=20, random_state=1, n_jobs=-1)\n",
        "rf.fit(X_train, y_train)\n",
        "np.argmax(rf.feature_importances_)"
      ],
      "execution_count": 18,
      "outputs": [
        {
          "output_type": "execute_result",
          "data": {
            "text/plain": [
              "12"
            ]
          },
          "metadata": {},
          "execution_count": 18
        }
      ]
    },
    {
      "cell_type": "code",
      "metadata": {
        "colab": {
          "base_uri": "https://localhost:8080/",
          "height": 37
        },
        "id": "vndF6DFhruL1",
        "outputId": "5aeb7061-3e37-4524-bbe5-6253afa59da9"
      },
      "source": [
        "dv.feature_names_[12]"
      ],
      "execution_count": 19,
      "outputs": [
        {
          "output_type": "execute_result",
          "data": {
            "application/vnd.google.colaboratory.intrinsic+json": {
              "type": "string"
            },
            "text/plain": [
              "'room_type=Entire home/apt'"
            ]
          },
          "metadata": {},
          "execution_count": 19
        }
      ]
    },
    {
      "cell_type": "markdown",
      "metadata": {
        "id": "6-dZo-j3nEEU"
      },
      "source": [
        "What's the most important feature? \n",
        "\n",
        "* `neighbourhood_group=Manhattan`\n",
        "* `room_type=Entire home/apt`\t\n",
        "* `longitude`\n",
        "* `latitude`"
      ]
    },
    {
      "cell_type": "markdown",
      "metadata": {
        "id": "1kxbJ78BxbM2"
      },
      "source": [
        "**Answer:** room_type"
      ]
    },
    {
      "cell_type": "markdown",
      "metadata": {
        "id": "OccVsdA4nEEV"
      },
      "source": [
        "## Question 6"
      ]
    },
    {
      "cell_type": "markdown",
      "metadata": {
        "id": "9RX8y_8enEEW"
      },
      "source": [
        "Now let's train an XGBoost model! For this question, we'll tune the `eta` parameter\n",
        "\n",
        "* Install XGBoost\n",
        "* Create DMatrix for train and validation\n",
        "* Create a watchlist\n",
        "* Train a model with these parameters for 100 rounds:\n",
        "\n",
        "```\n",
        "xgb_params = {\n",
        "    'eta': 0.3, \n",
        "    'max_depth': 6,\n",
        "    'min_child_weight': 1,\n",
        "    \n",
        "    'objective': 'reg:squarederror',\n",
        "    'nthread': 8,\n",
        "    \n",
        "    'seed': 1,\n",
        "    'verbosity': 1,\n",
        "}\n",
        "```"
      ]
    },
    {
      "cell_type": "code",
      "metadata": {
        "id": "eBsgq4gFpXPX"
      },
      "source": [
        "import xgboost as xgb\n",
        "\n",
        "dtrain = xgb.DMatrix(X_train, label=y_train, feature_names=dv.feature_names_)\n",
        "dval = xgb.DMatrix(X_val, label=y_val, feature_names=dv.feature_names_)"
      ],
      "execution_count": 20,
      "outputs": []
    },
    {
      "cell_type": "code",
      "metadata": {
        "id": "df1vjVd7nEEX"
      },
      "source": [
        "xgb_params = {\n",
        "    'eta': 0.3, \n",
        "    'max_depth': 6,\n",
        "    'min_child_weight': 1,\n",
        "\n",
        "    'objective': 'reg:squarederror',\n",
        "    'nthread': 8,\n",
        "\n",
        "    'seed': 1,\n",
        "    'verbosity': 1,\n",
        "}"
      ],
      "execution_count": 21,
      "outputs": []
    },
    {
      "cell_type": "code",
      "metadata": {
        "id": "GhOHwRGAqgaA"
      },
      "source": [
        "watchlist = [(dtrain, 'train'), (dval, 'val')]"
      ],
      "execution_count": 22,
      "outputs": []
    },
    {
      "cell_type": "code",
      "metadata": {
        "id": "BgY3Gv4UtJzh"
      },
      "source": [
        "def parse_xgb_output(output):\n",
        "    tree = []\n",
        "    rmse_train = []\n",
        "    rmse_val = []\n",
        "\n",
        "    for line in output.stdout.strip().split('\\n'):\n",
        "        it_line, train_line, val_line = line.split('\\t')\n",
        "\n",
        "        it = int(it_line.strip('[]'))\n",
        "        train = float(train_line.split(':')[1])\n",
        "        val = float(val_line.split(':')[1])\n",
        "\n",
        "        tree.append(it)\n",
        "        rmse_train.append(train)\n",
        "        rmse_val.append(val)\n",
        "\n",
        "    return tree, rmse_train, rmse_val"
      ],
      "execution_count": 23,
      "outputs": []
    },
    {
      "cell_type": "code",
      "metadata": {
        "id": "_z9BuB-bp288"
      },
      "source": [
        "%%capture output\n",
        "\n",
        "xgb_params = {\n",
        "    'eta': 0.3, \n",
        "    'max_depth': 6,\n",
        "    'min_child_weight': 1,\n",
        "\n",
        "    'objective': 'reg:squarederror',\n",
        "    'nthread': 8,\n",
        "\n",
        "    'seed': 1,\n",
        "    'verbosity': 1,\n",
        "}\n",
        "\n",
        "model = xgb.train(xgb_params, dtrain,\n",
        "                  num_boost_round=100,\n",
        "                  evals=watchlist)"
      ],
      "execution_count": 24,
      "outputs": []
    },
    {
      "cell_type": "code",
      "metadata": {
        "colab": {
          "base_uri": "https://localhost:8080/"
        },
        "id": "8BWmXbCos_Sm",
        "outputId": "de78adce-1050-43ea-afca-1a63b8739e4a"
      },
      "source": [
        "tree, _, rmse_val_eta_03 = parse_xgb_output(output)\n",
        "print(min(rmse_val_eta_03))\n",
        "print(min(zip(rmse_val_eta_03, tree)))"
      ],
      "execution_count": 25,
      "outputs": [
        {
          "output_type": "stream",
          "name": "stdout",
          "text": [
            "0.432494\n",
            "(0.432494, 67)\n"
          ]
        }
      ]
    },
    {
      "cell_type": "markdown",
      "metadata": {
        "id": "62PgDClLnEEX"
      },
      "source": [
        "Now change `eta` first to `0.1` and then to `0.01`"
      ]
    },
    {
      "cell_type": "code",
      "metadata": {
        "id": "y_B5d7T-nEEY"
      },
      "source": [
        "%%capture output\n",
        "\n",
        "xgb_params = {\n",
        "    'eta': 0.1, \n",
        "    'max_depth': 6,\n",
        "    'min_child_weight': 1,\n",
        "\n",
        "    'objective': 'reg:squarederror',\n",
        "    'nthread': 8,\n",
        "\n",
        "    'seed': 1,\n",
        "    'verbosity': 1,\n",
        "}\n",
        "\n",
        "model = xgb.train(xgb_params, dtrain,\n",
        "                  num_boost_round=100,\n",
        "                  evals=watchlist)"
      ],
      "execution_count": 26,
      "outputs": []
    },
    {
      "cell_type": "code",
      "metadata": {
        "colab": {
          "base_uri": "https://localhost:8080/"
        },
        "id": "ugI-XT7Eq4qN",
        "outputId": "5ad6377d-e478-4fd1-e6b3-b5e2bfee7f3d"
      },
      "source": [
        "tree, _, rmse_val_eta_01 = parse_xgb_output(output)\n",
        "print(min(rmse_val_eta_01))\n",
        "print(min(zip(rmse_val_eta_01, tree)))"
      ],
      "execution_count": 27,
      "outputs": [
        {
          "output_type": "stream",
          "name": "stdout",
          "text": [
            "0.432854\n",
            "(0.432854, 97)\n"
          ]
        }
      ]
    },
    {
      "cell_type": "code",
      "metadata": {
        "id": "UACLhPnwrDrR"
      },
      "source": [
        "%%capture output\n",
        "\n",
        "xgb_params = {\n",
        "    'eta': 0.01, \n",
        "    'max_depth': 6,\n",
        "    'min_child_weight': 1,\n",
        "\n",
        "    'objective': 'reg:squarederror',\n",
        "    'nthread': 8,\n",
        "\n",
        "    'seed': 1,\n",
        "    'verbosity': 1,\n",
        "}\n",
        "\n",
        "model = xgb.train(xgb_params, dtrain,\n",
        "                  num_boost_round=100,\n",
        "                  evals=watchlist)"
      ],
      "execution_count": 28,
      "outputs": []
    },
    {
      "cell_type": "code",
      "metadata": {
        "colab": {
          "base_uri": "https://localhost:8080/"
        },
        "id": "LYoljW4brHLO",
        "outputId": "7d8a0d87-312e-458d-b6aa-7deb701beaba"
      },
      "source": [
        "tree, _, rmse_val_eta_001 = parse_xgb_output(output)\n",
        "print(min(rmse_val_eta_001))\n",
        "print(min(zip(rmse_val_eta_001, tree)))"
      ],
      "execution_count": 29,
      "outputs": [
        {
          "output_type": "stream",
          "name": "stdout",
          "text": [
            "1.63049\n",
            "(1.63049, 99)\n"
          ]
        }
      ]
    },
    {
      "cell_type": "markdown",
      "metadata": {
        "id": "MxsIGwCVnEEY"
      },
      "source": [
        "Which eta leads to the best RMSE score on the validation dataset?\n",
        "\n",
        "* 0.3\n",
        "* 0.1\n",
        "* 0.01"
      ]
    },
    {
      "cell_type": "markdown",
      "metadata": {
        "id": "46Yq0mh0xjCk"
      },
      "source": [
        "**Answer:** 0.3"
      ]
    },
    {
      "cell_type": "markdown",
      "metadata": {
        "id": "iM_cq8J7nEEZ"
      },
      "source": [
        "## Submit the results\n",
        "\n",
        "\n",
        "Submit your results here: https://forms.gle/wQgFkYE6CtdDed4w8\n",
        "\n",
        "It's possible that your answers won't match exactly. If it's the case, select the closest one.\n",
        "\n",
        "\n",
        "## Deadline\n",
        "\n",
        "\n",
        "The deadline for submitting is 20 October 2021, 17:00 CET (Wednesday). After that, the form will be closed.\n",
        "\n"
      ]
    }
  ]
}