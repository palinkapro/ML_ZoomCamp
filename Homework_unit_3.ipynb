{
  "nbformat": 4,
  "nbformat_minor": 0,
  "metadata": {
    "kernelspec": {
      "display_name": "Python 3",
      "language": "python",
      "name": "python3"
    },
    "language_info": {
      "codemirror_mode": {
        "name": "ipython",
        "version": 3
      },
      "file_extension": ".py",
      "mimetype": "text/x-python",
      "name": "python",
      "nbconvert_exporter": "python",
      "pygments_lexer": "ipython3",
      "version": "3.9.1"
    },
    "toc": {
      "base_numbering": 1,
      "nav_menu": {},
      "number_sections": true,
      "sideBar": true,
      "skip_h1_title": false,
      "title_cell": "Table of Contents",
      "title_sidebar": "Contents",
      "toc_cell": false,
      "toc_position": {},
      "toc_section_display": true,
      "toc_window_display": false
    },
    "colab": {
      "name": "Homework_unit_3.ipynb",
      "provenance": [],
      "include_colab_link": true
    }
  },
  "cells": [
    {
      "cell_type": "markdown",
      "metadata": {
        "id": "view-in-github",
        "colab_type": "text"
      },
      "source": [
        "<a href=\"https://colab.research.google.com/github/palinkapro/ML_ZoomCamp/blob/main/Homework_unit_3.ipynb\" target=\"_parent\"><img src=\"https://colab.research.google.com/assets/colab-badge.svg\" alt=\"Open In Colab\"/></a>"
      ]
    },
    {
      "cell_type": "code",
      "metadata": {
        "colab": {
          "base_uri": "https://localhost:8080/"
        },
        "id": "NKCV6dVGYvho",
        "outputId": "835e120d-79ba-4534-d069-60c350bdd6fb"
      },
      "source": [
        "from google.colab import drive\n",
        "drive.mount('/content/drive')"
      ],
      "execution_count": 3,
      "outputs": [
        {
          "output_type": "stream",
          "name": "stdout",
          "text": [
            "Mounted at /content/drive\n"
          ]
        }
      ]
    },
    {
      "cell_type": "code",
      "metadata": {
        "ExecuteTime": {
          "end_time": "2021-09-25T14:25:50.288572Z",
          "start_time": "2021-09-25T14:25:48.865871Z"
        },
        "id": "LepOIfFyYn9S"
      },
      "source": [
        "import pandas as pd\n",
        "import numpy as np\n",
        "df = pd.read_csv('/content/drive/MyDrive/data/AB_NYC_2019.csv')"
      ],
      "execution_count": 4,
      "outputs": []
    },
    {
      "cell_type": "code",
      "metadata": {
        "ExecuteTime": {
          "end_time": "2021-09-25T14:25:51.093278Z",
          "start_time": "2021-09-25T14:25:51.083366Z"
        },
        "id": "mblL9xHZYn9U"
      },
      "source": [
        "new_df = df[['neighbourhood_group',\n",
        "             'room_type',\n",
        "             'latitude', \n",
        "             'longitude', \n",
        "             'price', \n",
        "             'minimum_nights', \n",
        "             'number_of_reviews', \n",
        "             'reviews_per_month', \n",
        "             'calculated_host_listings_count', \n",
        "             'availability_365']]\n",
        "             \n",
        "numerical = ['latitude', \n",
        "             'longitude', \n",
        "             'minimum_nights', \n",
        "             'number_of_reviews', \n",
        "             'reviews_per_month', \n",
        "             'calculated_host_listings_count', \n",
        "             'availability_365']\n",
        "\n",
        "categorical = ['neighbourhood_group',\n",
        "               'room_type'] "
      ],
      "execution_count": 5,
      "outputs": []
    },
    {
      "cell_type": "code",
      "metadata": {
        "ExecuteTime": {
          "end_time": "2021-09-25T14:25:52.762844Z",
          "start_time": "2021-09-25T14:25:52.745292Z"
        },
        "id": "VQb7_InIYn9W"
      },
      "source": [
        "new_df = new_df.fillna(0)"
      ],
      "execution_count": 6,
      "outputs": []
    },
    {
      "cell_type": "markdown",
      "metadata": {
        "id": "nWcpURC4Yn9Y"
      },
      "source": [
        "### Question 1  \n",
        "\n",
        "What is the most frequent observation (mode) for the column 'neighbourhood_group'?\n"
      ]
    },
    {
      "cell_type": "code",
      "metadata": {
        "ExecuteTime": {
          "end_time": "2021-09-25T14:25:54.524931Z",
          "start_time": "2021-09-25T14:25:54.513229Z"
        },
        "colab": {
          "base_uri": "https://localhost:8080/"
        },
        "id": "yE1YkXYyYn9c",
        "outputId": "a0310a78-782d-493d-905d-15e565c6b6f5"
      },
      "source": [
        "print(new_df['neighbourhood_group'].mode().values)"
      ],
      "execution_count": 7,
      "outputs": [
        {
          "output_type": "stream",
          "name": "stdout",
          "text": [
            "['Manhattan']\n"
          ]
        }
      ]
    },
    {
      "cell_type": "markdown",
      "metadata": {
        "id": "OW1gyf9xYn9d"
      },
      "source": [
        "#### Split the data\n",
        "\n",
        "Split your data in train/val/test sets, with 60%/20%/20% distribution.  \n",
        "Use Scikit-Learn for that (the train_test_split function) and set the seed to 42.  \n",
        "Make sure that the target value ('price') is not in your dataframe.  "
      ]
    },
    {
      "cell_type": "code",
      "metadata": {
        "ExecuteTime": {
          "end_time": "2021-09-25T14:25:58.074582Z",
          "start_time": "2021-09-25T14:25:56.256812Z"
        },
        "colab": {
          "base_uri": "https://localhost:8080/"
        },
        "id": "rfTNpSjWYn9g",
        "outputId": "8335a046-068b-4702-c6ad-62c98d98d93a"
      },
      "source": [
        "from sklearn.model_selection import train_test_split\n",
        "\n",
        "X_origin = new_df.drop(columns=['price'])\n",
        "y_origin = new_df['price']\n",
        "X, X_test, y, y_test = train_test_split(X_origin, y_origin, test_size=0.2, shuffle=True, random_state=42)\n",
        "X_train, X_val, y_train, y_val = train_test_split(X, y, test_size=0.25, shuffle=True, random_state=42)\n",
        "X_train.shape[0] / X_origin.shape[0], X_val.shape[0] / X_origin.shape[0], X_test.shape[0] / X_origin.shape[0]"
      ],
      "execution_count": 8,
      "outputs": [
        {
          "output_type": "execute_result",
          "data": {
            "text/plain": [
              "(0.6, 0.2, 0.2)"
            ]
          },
          "metadata": {},
          "execution_count": 8
        }
      ]
    },
    {
      "cell_type": "markdown",
      "metadata": {
        "id": "vOcIFj4eYn9i"
      },
      "source": [
        "### Question 2\n",
        "\n",
        "Create the correlation matrix for the numerical features of your train dataset.  \n",
        "In a correlation matrix, you compute the correlation coefficient between every pair of features in the dataset.  \n",
        "What are the two features that have the biggest correlation in this dataset?  "
      ]
    },
    {
      "cell_type": "code",
      "metadata": {
        "ExecuteTime": {
          "end_time": "2021-09-25T14:26:00.087433Z",
          "start_time": "2021-09-25T14:26:00.055102Z"
        },
        "colab": {
          "base_uri": "https://localhost:8080/",
          "height": 286
        },
        "id": "bv3krBNPYn9j",
        "outputId": "6d8bb6bc-bec2-4fec-f8ec-8b3ad0fcb35b"
      },
      "source": [
        "corr = X_train.corr().round(2)\n",
        "corr"
      ],
      "execution_count": 9,
      "outputs": [
        {
          "output_type": "execute_result",
          "data": {
            "text/html": [
              "<div>\n",
              "<style scoped>\n",
              "    .dataframe tbody tr th:only-of-type {\n",
              "        vertical-align: middle;\n",
              "    }\n",
              "\n",
              "    .dataframe tbody tr th {\n",
              "        vertical-align: top;\n",
              "    }\n",
              "\n",
              "    .dataframe thead th {\n",
              "        text-align: right;\n",
              "    }\n",
              "</style>\n",
              "<table border=\"1\" class=\"dataframe\">\n",
              "  <thead>\n",
              "    <tr style=\"text-align: right;\">\n",
              "      <th></th>\n",
              "      <th>latitude</th>\n",
              "      <th>longitude</th>\n",
              "      <th>minimum_nights</th>\n",
              "      <th>number_of_reviews</th>\n",
              "      <th>reviews_per_month</th>\n",
              "      <th>calculated_host_listings_count</th>\n",
              "      <th>availability_365</th>\n",
              "    </tr>\n",
              "  </thead>\n",
              "  <tbody>\n",
              "    <tr>\n",
              "      <th>latitude</th>\n",
              "      <td>1.00</td>\n",
              "      <td>0.08</td>\n",
              "      <td>0.03</td>\n",
              "      <td>-0.01</td>\n",
              "      <td>-0.01</td>\n",
              "      <td>0.02</td>\n",
              "      <td>-0.01</td>\n",
              "    </tr>\n",
              "    <tr>\n",
              "      <th>longitude</th>\n",
              "      <td>0.08</td>\n",
              "      <td>1.00</td>\n",
              "      <td>-0.06</td>\n",
              "      <td>0.06</td>\n",
              "      <td>0.13</td>\n",
              "      <td>-0.12</td>\n",
              "      <td>0.08</td>\n",
              "    </tr>\n",
              "    <tr>\n",
              "      <th>minimum_nights</th>\n",
              "      <td>0.03</td>\n",
              "      <td>-0.06</td>\n",
              "      <td>1.00</td>\n",
              "      <td>-0.08</td>\n",
              "      <td>-0.12</td>\n",
              "      <td>0.12</td>\n",
              "      <td>0.14</td>\n",
              "    </tr>\n",
              "    <tr>\n",
              "      <th>number_of_reviews</th>\n",
              "      <td>-0.01</td>\n",
              "      <td>0.06</td>\n",
              "      <td>-0.08</td>\n",
              "      <td>1.00</td>\n",
              "      <td>0.59</td>\n",
              "      <td>-0.07</td>\n",
              "      <td>0.17</td>\n",
              "    </tr>\n",
              "    <tr>\n",
              "      <th>reviews_per_month</th>\n",
              "      <td>-0.01</td>\n",
              "      <td>0.13</td>\n",
              "      <td>-0.12</td>\n",
              "      <td>0.59</td>\n",
              "      <td>1.00</td>\n",
              "      <td>-0.05</td>\n",
              "      <td>0.17</td>\n",
              "    </tr>\n",
              "    <tr>\n",
              "      <th>calculated_host_listings_count</th>\n",
              "      <td>0.02</td>\n",
              "      <td>-0.12</td>\n",
              "      <td>0.12</td>\n",
              "      <td>-0.07</td>\n",
              "      <td>-0.05</td>\n",
              "      <td>1.00</td>\n",
              "      <td>0.23</td>\n",
              "    </tr>\n",
              "    <tr>\n",
              "      <th>availability_365</th>\n",
              "      <td>-0.01</td>\n",
              "      <td>0.08</td>\n",
              "      <td>0.14</td>\n",
              "      <td>0.17</td>\n",
              "      <td>0.17</td>\n",
              "      <td>0.23</td>\n",
              "      <td>1.00</td>\n",
              "    </tr>\n",
              "  </tbody>\n",
              "</table>\n",
              "</div>"
            ],
            "text/plain": [
              "                                latitude  ...  availability_365\n",
              "latitude                            1.00  ...             -0.01\n",
              "longitude                           0.08  ...              0.08\n",
              "minimum_nights                      0.03  ...              0.14\n",
              "number_of_reviews                  -0.01  ...              0.17\n",
              "reviews_per_month                  -0.01  ...              0.17\n",
              "calculated_host_listings_count      0.02  ...              0.23\n",
              "availability_365                   -0.01  ...              1.00\n",
              "\n",
              "[7 rows x 7 columns]"
            ]
          },
          "metadata": {},
          "execution_count": 9
        }
      ]
    },
    {
      "cell_type": "code",
      "metadata": {
        "ExecuteTime": {
          "end_time": "2021-09-25T14:26:01.051842Z",
          "start_time": "2021-09-25T14:26:01.039930Z"
        },
        "colab": {
          "base_uri": "https://localhost:8080/"
        },
        "id": "CEqpCclGYn9k",
        "outputId": "cb2eef3d-1dd9-497b-e859-68bd56bcedd1"
      },
      "source": [
        "corr[corr < 1].max().sort_values(ascending=False).index[0:2]"
      ],
      "execution_count": 10,
      "outputs": [
        {
          "output_type": "execute_result",
          "data": {
            "text/plain": [
              "Index(['reviews_per_month', 'number_of_reviews'], dtype='object')"
            ]
          },
          "metadata": {},
          "execution_count": 10
        }
      ]
    },
    {
      "cell_type": "markdown",
      "metadata": {
        "id": "2oubcn06Yn9l"
      },
      "source": [
        "#### Make price binary\n",
        "\n",
        "We need to turn the price variable from numeric into binary.  \n",
        "Let's create a variable above_average which is 1 if the price is above (or equal to) 152.  "
      ]
    },
    {
      "cell_type": "code",
      "metadata": {
        "ExecuteTime": {
          "end_time": "2021-09-25T14:26:02.633350Z",
          "start_time": "2021-09-25T14:26:02.599279Z"
        },
        "id": "lRtzdCwfYn9m"
      },
      "source": [
        "new_df.price = new_df.price.apply(lambda x: 1 if x >= 152 else 0)"
      ],
      "execution_count": 11,
      "outputs": []
    },
    {
      "cell_type": "code",
      "metadata": {
        "ExecuteTime": {
          "end_time": "2021-09-25T14:26:03.418983Z",
          "start_time": "2021-09-25T14:26:03.394020Z"
        },
        "colab": {
          "base_uri": "https://localhost:8080/",
          "height": 609
        },
        "id": "6KafvTd1Yn9n",
        "outputId": "aee665f2-e35e-4ebd-eef7-a8ac9438d6ab"
      },
      "source": [
        "new_df"
      ],
      "execution_count": 12,
      "outputs": [
        {
          "output_type": "execute_result",
          "data": {
            "text/html": [
              "<div>\n",
              "<style scoped>\n",
              "    .dataframe tbody tr th:only-of-type {\n",
              "        vertical-align: middle;\n",
              "    }\n",
              "\n",
              "    .dataframe tbody tr th {\n",
              "        vertical-align: top;\n",
              "    }\n",
              "\n",
              "    .dataframe thead th {\n",
              "        text-align: right;\n",
              "    }\n",
              "</style>\n",
              "<table border=\"1\" class=\"dataframe\">\n",
              "  <thead>\n",
              "    <tr style=\"text-align: right;\">\n",
              "      <th></th>\n",
              "      <th>neighbourhood_group</th>\n",
              "      <th>room_type</th>\n",
              "      <th>latitude</th>\n",
              "      <th>longitude</th>\n",
              "      <th>price</th>\n",
              "      <th>minimum_nights</th>\n",
              "      <th>number_of_reviews</th>\n",
              "      <th>reviews_per_month</th>\n",
              "      <th>calculated_host_listings_count</th>\n",
              "      <th>availability_365</th>\n",
              "    </tr>\n",
              "  </thead>\n",
              "  <tbody>\n",
              "    <tr>\n",
              "      <th>0</th>\n",
              "      <td>Brooklyn</td>\n",
              "      <td>Private room</td>\n",
              "      <td>40.64749</td>\n",
              "      <td>-73.97237</td>\n",
              "      <td>0</td>\n",
              "      <td>1</td>\n",
              "      <td>9</td>\n",
              "      <td>0.21</td>\n",
              "      <td>6</td>\n",
              "      <td>365</td>\n",
              "    </tr>\n",
              "    <tr>\n",
              "      <th>1</th>\n",
              "      <td>Manhattan</td>\n",
              "      <td>Entire home/apt</td>\n",
              "      <td>40.75362</td>\n",
              "      <td>-73.98377</td>\n",
              "      <td>1</td>\n",
              "      <td>1</td>\n",
              "      <td>45</td>\n",
              "      <td>0.38</td>\n",
              "      <td>2</td>\n",
              "      <td>355</td>\n",
              "    </tr>\n",
              "    <tr>\n",
              "      <th>2</th>\n",
              "      <td>Manhattan</td>\n",
              "      <td>Private room</td>\n",
              "      <td>40.80902</td>\n",
              "      <td>-73.94190</td>\n",
              "      <td>0</td>\n",
              "      <td>3</td>\n",
              "      <td>0</td>\n",
              "      <td>0.00</td>\n",
              "      <td>1</td>\n",
              "      <td>365</td>\n",
              "    </tr>\n",
              "    <tr>\n",
              "      <th>3</th>\n",
              "      <td>Brooklyn</td>\n",
              "      <td>Entire home/apt</td>\n",
              "      <td>40.68514</td>\n",
              "      <td>-73.95976</td>\n",
              "      <td>0</td>\n",
              "      <td>1</td>\n",
              "      <td>270</td>\n",
              "      <td>4.64</td>\n",
              "      <td>1</td>\n",
              "      <td>194</td>\n",
              "    </tr>\n",
              "    <tr>\n",
              "      <th>4</th>\n",
              "      <td>Manhattan</td>\n",
              "      <td>Entire home/apt</td>\n",
              "      <td>40.79851</td>\n",
              "      <td>-73.94399</td>\n",
              "      <td>0</td>\n",
              "      <td>10</td>\n",
              "      <td>9</td>\n",
              "      <td>0.10</td>\n",
              "      <td>1</td>\n",
              "      <td>0</td>\n",
              "    </tr>\n",
              "    <tr>\n",
              "      <th>...</th>\n",
              "      <td>...</td>\n",
              "      <td>...</td>\n",
              "      <td>...</td>\n",
              "      <td>...</td>\n",
              "      <td>...</td>\n",
              "      <td>...</td>\n",
              "      <td>...</td>\n",
              "      <td>...</td>\n",
              "      <td>...</td>\n",
              "      <td>...</td>\n",
              "    </tr>\n",
              "    <tr>\n",
              "      <th>48890</th>\n",
              "      <td>Brooklyn</td>\n",
              "      <td>Private room</td>\n",
              "      <td>40.67853</td>\n",
              "      <td>-73.94995</td>\n",
              "      <td>0</td>\n",
              "      <td>2</td>\n",
              "      <td>0</td>\n",
              "      <td>0.00</td>\n",
              "      <td>2</td>\n",
              "      <td>9</td>\n",
              "    </tr>\n",
              "    <tr>\n",
              "      <th>48891</th>\n",
              "      <td>Brooklyn</td>\n",
              "      <td>Private room</td>\n",
              "      <td>40.70184</td>\n",
              "      <td>-73.93317</td>\n",
              "      <td>0</td>\n",
              "      <td>4</td>\n",
              "      <td>0</td>\n",
              "      <td>0.00</td>\n",
              "      <td>2</td>\n",
              "      <td>36</td>\n",
              "    </tr>\n",
              "    <tr>\n",
              "      <th>48892</th>\n",
              "      <td>Manhattan</td>\n",
              "      <td>Entire home/apt</td>\n",
              "      <td>40.81475</td>\n",
              "      <td>-73.94867</td>\n",
              "      <td>0</td>\n",
              "      <td>10</td>\n",
              "      <td>0</td>\n",
              "      <td>0.00</td>\n",
              "      <td>1</td>\n",
              "      <td>27</td>\n",
              "    </tr>\n",
              "    <tr>\n",
              "      <th>48893</th>\n",
              "      <td>Manhattan</td>\n",
              "      <td>Shared room</td>\n",
              "      <td>40.75751</td>\n",
              "      <td>-73.99112</td>\n",
              "      <td>0</td>\n",
              "      <td>1</td>\n",
              "      <td>0</td>\n",
              "      <td>0.00</td>\n",
              "      <td>6</td>\n",
              "      <td>2</td>\n",
              "    </tr>\n",
              "    <tr>\n",
              "      <th>48894</th>\n",
              "      <td>Manhattan</td>\n",
              "      <td>Private room</td>\n",
              "      <td>40.76404</td>\n",
              "      <td>-73.98933</td>\n",
              "      <td>0</td>\n",
              "      <td>7</td>\n",
              "      <td>0</td>\n",
              "      <td>0.00</td>\n",
              "      <td>1</td>\n",
              "      <td>23</td>\n",
              "    </tr>\n",
              "  </tbody>\n",
              "</table>\n",
              "<p>48895 rows × 10 columns</p>\n",
              "</div>"
            ],
            "text/plain": [
              "      neighbourhood_group  ... availability_365\n",
              "0                Brooklyn  ...              365\n",
              "1               Manhattan  ...              355\n",
              "2               Manhattan  ...              365\n",
              "3                Brooklyn  ...              194\n",
              "4               Manhattan  ...                0\n",
              "...                   ...  ...              ...\n",
              "48890            Brooklyn  ...                9\n",
              "48891            Brooklyn  ...               36\n",
              "48892           Manhattan  ...               27\n",
              "48893           Manhattan  ...                2\n",
              "48894           Manhattan  ...               23\n",
              "\n",
              "[48895 rows x 10 columns]"
            ]
          },
          "metadata": {},
          "execution_count": 12
        }
      ]
    },
    {
      "cell_type": "markdown",
      "metadata": {
        "id": "HFZZOqsYYn9o"
      },
      "source": [
        "### Question 3\n",
        "\n",
        "Calculate the mutual information score with the (binarized) price for the two categorical variables that we have.   Use the training set only.  \n",
        "Which of these two variables has bigger score?  \n",
        "Round it to 2 decimal digits using round(score, 2)  "
      ]
    },
    {
      "cell_type": "code",
      "metadata": {
        "ExecuteTime": {
          "end_time": "2021-09-25T14:26:04.936606Z",
          "start_time": "2021-09-25T14:26:04.762737Z"
        },
        "id": "wjko0-ftYn9p"
      },
      "source": [
        "from sklearn.metrics import mutual_info_score\n",
        "\n",
        "def calculate_mi(series):\n",
        "    return series.name, mutual_info_score(series, new_df.price).round(2)\n",
        "\n",
        "mi = [calculate_mi(new_df['neighbourhood_group']), calculate_mi(new_df['room_type'])]"
      ],
      "execution_count": 13,
      "outputs": []
    },
    {
      "cell_type": "code",
      "metadata": {
        "ExecuteTime": {
          "end_time": "2021-09-25T14:26:05.506433Z",
          "start_time": "2021-09-25T14:26:05.496734Z"
        },
        "colab": {
          "base_uri": "https://localhost:8080/"
        },
        "id": "1vagAUgIYn9q",
        "outputId": "56700fa2-1aff-4d9a-c75b-158290aa0916"
      },
      "source": [
        "max(mi)"
      ],
      "execution_count": 14,
      "outputs": [
        {
          "output_type": "execute_result",
          "data": {
            "text/plain": [
              "('room_type', 0.14)"
            ]
          },
          "metadata": {},
          "execution_count": 14
        }
      ]
    },
    {
      "cell_type": "markdown",
      "metadata": {
        "id": "t597XKRbYn9r"
      },
      "source": [
        "### Question 4\n",
        "\n",
        "Now let's train a logistic regression  \n",
        "Remember that we have two categorical variables in the data. Include them using one-hot encoding.  \n",
        "Fit the model on the training dataset.  \n",
        "To make sure the results are reproducible across different versions of Scikit-Learn, fit the model with these parameters:  \n",
        "model = LogisticRegression(solver='lbfgs', C=1.0, random_state=42)  \n",
        "Calculate the accuracy on the validation dataset and rount it to 2 decimal digits.  "
      ]
    },
    {
      "cell_type": "code",
      "metadata": {
        "id": "d1_QLj8yXb8m"
      },
      "source": [
        "X_origin = new_df.drop(columns=['price'])\n",
        "y_origin = new_df['price']\n",
        "X, X_test, y, y_test = train_test_split(X_origin, y_origin, test_size=0.2, shuffle=True, random_state=42)\n",
        "X_train, X_val, y_train, y_val = train_test_split(X, y, test_size=0.25, shuffle=True, random_state=42)"
      ],
      "execution_count": 15,
      "outputs": []
    },
    {
      "cell_type": "code",
      "metadata": {
        "id": "q4fWC_MXNBsA"
      },
      "source": [
        "from sklearn.preprocessing import StandardScaler, OneHotEncoder\n",
        "from sklearn.pipeline import Pipeline\n",
        "from sklearn.compose import ColumnTransformer\n",
        "from sklearn.linear_model import LogisticRegression\n",
        "\n",
        "numeric_transformer = StandardScaler()\n",
        "categorical_transformer = OneHotEncoder()\n",
        "\n",
        "\n",
        "preprocessor = ColumnTransformer(\n",
        "    transformers=[\n",
        "        ('num', numeric_transformer, numerical),\n",
        "        ('cat', categorical_transformer, categorical)])\n",
        "X_tr = preprocessor.fit_transform(X_train)\n",
        "X_v = preprocessor.transform(X_val)\n",
        "\n",
        "model = LogisticRegression(max_iter=10000,  solver='lbfgs', C=1.0, random_state=42)"
      ],
      "execution_count": 16,
      "outputs": []
    },
    {
      "cell_type": "code",
      "metadata": {
        "ExecuteTime": {
          "start_time": "2021-09-25T14:34:27.739Z"
        },
        "colab": {
          "base_uri": "https://localhost:8080/"
        },
        "id": "1Uon1zajYn9v",
        "outputId": "651aba0d-b394-4155-a89e-5bb3a09be58f"
      },
      "source": [
        "model.fit(X_tr, y_train)"
      ],
      "execution_count": 17,
      "outputs": [
        {
          "output_type": "execute_result",
          "data": {
            "text/plain": [
              "LogisticRegression(C=1.0, class_weight=None, dual=False, fit_intercept=True,\n",
              "                   intercept_scaling=1, l1_ratio=None, max_iter=10000,\n",
              "                   multi_class='auto', n_jobs=None, penalty='l2',\n",
              "                   random_state=42, solver='lbfgs', tol=0.0001, verbose=0,\n",
              "                   warm_start=False)"
            ]
          },
          "metadata": {},
          "execution_count": 17
        }
      ]
    },
    {
      "cell_type": "code",
      "metadata": {
        "ExecuteTime": {
          "end_time": "2021-09-25T14:28:00.678254Z",
          "start_time": "2021-09-25T14:28:00.549823Z"
        },
        "colab": {
          "base_uri": "https://localhost:8080/"
        },
        "id": "QVD7axEKYn9v",
        "outputId": "6beaddf2-045e-499d-83b5-c9c5ca675dee"
      },
      "source": [
        "acc = model.score(X_v, y_val)\n",
        "acc"
      ],
      "execution_count": 18,
      "outputs": [
        {
          "output_type": "execute_result",
          "data": {
            "text/plain": [
              "0.7976275692811126"
            ]
          },
          "metadata": {},
          "execution_count": 18
        }
      ]
    },
    {
      "cell_type": "markdown",
      "metadata": {
        "id": "UtsqFevdbW-w"
      },
      "source": [
        "### Question 5\n",
        "\n",
        "We have 9 features: 7 numerical features and 2 categorical.  \n",
        "Let's find the least useful one using the feature elimination technique.  \n",
        "Train a model with all these features (using the same parameters as in Q4).  \n",
        "Now exclude each feature from this set and train a model without it. Record the accuracy for each model.  \n",
        "For each feature, calculate the difference between the original accuracy and the accuracy without the feature.  \n",
        "Which of following feature has the smallest difference?  \n",
        "neighbourhood_group  \n",
        "room_type  \n",
        "number_of_reviews   \n",
        "reviews_per_month   \n",
        "note: the difference doesn't have to be positive. "
      ]
    },
    {
      "cell_type": "code",
      "metadata": {
        "id": "gk99_QkvbkCs"
      },
      "source": [
        "feat = ['neighbourhood_group', \n",
        "        'room_type',\n",
        "        'number_of_reviews',\n",
        "        'reviews_per_month']\n"
      ],
      "execution_count": 19,
      "outputs": []
    },
    {
      "cell_type": "code",
      "metadata": {
        "colab": {
          "base_uri": "https://localhost:8080/"
        },
        "id": "KiD8njSCYT2m",
        "outputId": "26587008-0014-4abf-c689-83cecf65a9fa"
      },
      "source": [
        "scores = []\n",
        "for ft in feat:\n",
        "  num = numerical.copy()\n",
        "  cat = categorical.copy()\n",
        "  if ft in num:\n",
        "    num.remove(ft)\n",
        "  else:\n",
        "    cat.remove(ft)\n",
        "  preprocessor = ColumnTransformer(\n",
        "      transformers=[\n",
        "          ('num', numeric_transformer, num),\n",
        "          ('cat', categorical_transformer, cat)])\n",
        "  X_tr = preprocessor.fit_transform(X_train.drop(columns=ft))\n",
        "  X_v = preprocessor.transform(X_val.drop(columns=ft))\n",
        "  model = LogisticRegression(max_iter=10000,  solver='lbfgs', C=1.0, random_state=42)\n",
        "  model.fit(X_tr, y_train)\n",
        "  scores.append(model.score(X_v, y_val))\n",
        "  \n",
        "diff = [abs(acc - x) for x in scores]\n",
        "diff"
      ],
      "execution_count": 20,
      "outputs": [
        {
          "output_type": "execute_result",
          "data": {
            "text/plain": [
              "[0.002658758564270336,\n",
              " 0.05726556907659264,\n",
              " 0.0011248593925760053,\n",
              " 0.0006135596686777101]"
            ]
          },
          "metadata": {},
          "execution_count": 20
        }
      ]
    },
    {
      "cell_type": "code",
      "metadata": {
        "colab": {
          "base_uri": "https://localhost:8080/",
          "height": 37
        },
        "id": "fHZOyeRGjkuh",
        "outputId": "3ee3ac59-94f9-426d-cab6-32606674273b"
      },
      "source": [
        "feat[np.argmin(diff)]"
      ],
      "execution_count": 21,
      "outputs": [
        {
          "output_type": "execute_result",
          "data": {
            "application/vnd.google.colaboratory.intrinsic+json": {
              "type": "string"
            },
            "text/plain": [
              "'reviews_per_month'"
            ]
          },
          "metadata": {},
          "execution_count": 21
        }
      ]
    },
    {
      "cell_type": "markdown",
      "metadata": {
        "id": "Fi1tkL6tb9AS"
      },
      "source": [
        "### Question 6\n",
        "\n",
        "For this question, we'll see how to use a linear regression model from Scikit-Learn. \n",
        "We'll need to use the original column 'price'. Apply the logarithmic transformation to this column.  \n",
        "Fit the Ridge regression model on the training data.\n",
        "This model has a parameter alpha. Let's try the following values: [0, 0.01, 0.1, 1, 10]. \n",
        "Which of these alphas leads to the best RMSE on the validation set? Round your RMSE scores to 3 decimal digits.  \n",
        "If there are multiple options, select the smallest alpha.  "
      ]
    },
    {
      "cell_type": "code",
      "metadata": {
        "ExecuteTime": {
          "end_time": "2021-09-20T11:41:32.512557Z",
          "start_time": "2021-09-20T11:41:32.505212Z"
        },
        "id": "Tzy9rOLlYn9w"
      },
      "source": [
        "from sklearn.linear_model import Ridge\n",
        "from sklearn.metrics import mean_squared_error\n",
        "\n",
        "X_origin = new_df.drop(columns=['price'])\n",
        "y_origin = df['price'].apply(lambda x: np.log1p(x))\n",
        "X, X_test, y, y_test = train_test_split(X_origin, y_origin, test_size=0.2, shuffle=True, random_state=42)\n",
        "X_train, X_val, y_train, y_val = train_test_split(X, y, test_size=0.25, shuffle=True, random_state=42)\n",
        "\n",
        "preprocessor = ColumnTransformer(\n",
        "      transformers=[\n",
        "          ('num', numeric_transformer, numerical),\n",
        "          ('cat', categorical_transformer, categorical)])\n",
        "X_tr = preprocessor.fit_transform(X_train)\n",
        "X_v = preprocessor.transform(X_val)\n",
        "alphas = [0, 0.01, 0.1, 1, 10]\n",
        "rmse = []\n",
        "for alpha in alphas:\n",
        "  model = Ridge(alpha=alpha)\n",
        "  model.fit(X_tr, y_train)\n",
        "  rmse.append(round(mean_squared_error(y_val, model.predict(X_v), squared=False), 3))\n"
      ],
      "execution_count": 22,
      "outputs": []
    },
    {
      "cell_type": "code",
      "metadata": {
        "ExecuteTime": {
          "end_time": "2021-09-20T11:41:16.544126Z",
          "start_time": "2021-09-20T11:41:16.521845Z"
        },
        "colab": {
          "base_uri": "https://localhost:8080/"
        },
        "id": "QMY1LdhSYn9y",
        "outputId": "fc2003bf-947a-442c-cba4-637aed80dd44"
      },
      "source": [
        "alphas[np.argmin(rmse)]"
      ],
      "execution_count": 23,
      "outputs": [
        {
          "output_type": "execute_result",
          "data": {
            "text/plain": [
              "0"
            ]
          },
          "metadata": {},
          "execution_count": 23
        }
      ]
    },
    {
      "cell_type": "code",
      "metadata": {
        "id": "Z-8uN8czYn95"
      },
      "source": [
        ""
      ],
      "execution_count": null,
      "outputs": []
    }
  ]
}