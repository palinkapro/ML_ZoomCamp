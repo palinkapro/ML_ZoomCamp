{
  "nbformat": 4,
  "nbformat_minor": 0,
  "metadata": {
    "kernelspec": {
      "display_name": "Python 3",
      "language": "python",
      "name": "python3"
    },
    "language_info": {
      "codemirror_mode": {
        "name": "ipython",
        "version": 3
      },
      "file_extension": ".py",
      "mimetype": "text/x-python",
      "name": "python",
      "nbconvert_exporter": "python",
      "pygments_lexer": "ipython3",
      "version": "3.9.1"
    },
    "toc": {
      "base_numbering": 1,
      "nav_menu": {},
      "number_sections": true,
      "sideBar": true,
      "skip_h1_title": false,
      "title_cell": "Table of Contents",
      "title_sidebar": "Contents",
      "toc_cell": false,
      "toc_position": {},
      "toc_section_display": true,
      "toc_window_display": false
    },
    "colab": {
      "name": "Homework_unit_2.ipynb",
      "provenance": [],
      "toc_visible": true,
      "include_colab_link": true
    }
  },
  "cells": [
    {
      "cell_type": "markdown",
      "metadata": {
        "id": "view-in-github",
        "colab_type": "text"
      },
      "source": [
        "<a href=\"https://colab.research.google.com/github/palinkapro/ML_ZoomCamp/blob/main/Homework_unit_2.ipynb\" target=\"_parent\"><img src=\"https://colab.research.google.com/assets/colab-badge.svg\" alt=\"Open In Colab\"/></a>"
      ]
    },
    {
      "cell_type": "code",
      "metadata": {
        "colab": {
          "base_uri": "https://localhost:8080/"
        },
        "id": "fdZE3rVyDWS8",
        "outputId": "a275e27a-98c0-4199-b641-6815c01aed41"
      },
      "source": [
        "from google.colab import drive\n",
        "drive.mount('/content/drive')"
      ],
      "execution_count": 1,
      "outputs": [
        {
          "output_type": "stream",
          "name": "stdout",
          "text": [
            "Drive already mounted at /content/drive; to attempt to forcibly remount, call drive.mount(\"/content/drive\", force_remount=True).\n"
          ]
        }
      ]
    },
    {
      "cell_type": "code",
      "metadata": {
        "ExecuteTime": {
          "end_time": "2021-09-20T11:40:53.350912Z",
          "start_time": "2021-09-20T11:40:53.149753Z"
        },
        "id": "OeWugyrtCopN"
      },
      "source": [
        "import pandas as pd\n",
        "import numpy as np\n",
        "df = pd.read_csv('/content/drive/MyDrive/data/AB_NYC_2019.csv')"
      ],
      "execution_count": 2,
      "outputs": []
    },
    {
      "cell_type": "code",
      "metadata": {
        "ExecuteTime": {
          "end_time": "2021-09-20T11:40:56.268344Z",
          "start_time": "2021-09-20T11:40:53.571277Z"
        },
        "colab": {
          "base_uri": "https://localhost:8080/",
          "height": 282
        },
        "id": "DUvmw3JbCopP",
        "outputId": "554bb7be-0bde-40c9-b242-fac0211f40fe"
      },
      "source": [
        "df.price.hist(bins=1000)"
      ],
      "execution_count": 3,
      "outputs": [
        {
          "output_type": "execute_result",
          "data": {
            "text/plain": [
              "<matplotlib.axes._subplots.AxesSubplot at 0x7f218d08a190>"
            ]
          },
          "metadata": {},
          "execution_count": 3
        },
        {
          "output_type": "display_data",
          "data": {
            "image/png": "[encoded data removed]",
            "text/plain": [
              "<Figure size 432x288 with 1 Axes>"
            ]
          },
          "metadata": {
            "needs_background": "light"
          }
        }
      ]
    },
    {
      "cell_type": "code",
      "metadata": {
        "id": "nuLpHPwsPTfp"
      },
      "source": [
        "base = ['latitude', \n",
        "             'longitude', \n",
        "             'minimum_nights', \n",
        "             'number_of_reviews', \n",
        "             'reviews_per_month', \n",
        "             'calculated_host_listings_count', \n",
        "             'availability_365']"
      ],
      "execution_count": 4,
      "outputs": []
    },
    {
      "cell_type": "code",
      "metadata": {
        "id": "P9FpJYUzNrQK"
      },
      "source": [
        "def prepare_X(df, na=0):\n",
        "  df = df[base]\n",
        "  df_num = df.fillna(na)\n",
        "  X = df_num.values\n",
        "  return X"
      ],
      "execution_count": 5,
      "outputs": []
    },
    {
      "cell_type": "code",
      "metadata": {
        "id": "CC0JoGYfVAYz"
      },
      "source": [
        "def shuffle(df, seed=42):\n",
        "  np.random.seed(seed)\n",
        "\n",
        "  n = len(df)\n",
        "\n",
        "  n_val = int(0.2 * n)\n",
        "  n_test = int(0.2 * n)\n",
        "  n_train = n - (n_val + n_test)\n",
        "\n",
        "  idx = np.arange(n)\n",
        "  np.random.shuffle(idx)\n",
        "\n",
        "  df_shuffled = df.iloc[idx]\n",
        "\n",
        "  df_train = df_shuffled.iloc[:n_train].copy()\n",
        "  df_val = df_shuffled.iloc[n_train:n_train+n_val].copy()\n",
        "  df_test = df_shuffled.iloc[n_train+n_val:].copy()\n",
        "\n",
        "  y_train_orig = df_train.price.values\n",
        "  y_val_orig = df_val.price.values\n",
        "  y_test_orig = df_test.price.values\n",
        "\n",
        "  y_train = np.log1p(df_train.price.values)\n",
        "  y_val = np.log1p(df_val.price.values)\n",
        "  y_test = np.log1p(df_test.price.values)\n",
        "\n",
        "  del df_train['price']\n",
        "  del df_val['price']\n",
        "  del df_test['price']\n",
        "  return df_train, df_val, df_test, y_train, y_val, y_test"
      ],
      "execution_count": 6,
      "outputs": []
    },
    {
      "cell_type": "code",
      "metadata": {
        "id": "0jOf5MBwFzYO"
      },
      "source": [
        "def train_linear_regression(X, y, r=0.001):\n",
        "  ones = np.ones(X.shape[0])\n",
        "  X = np.column_stack([ones, X])\n",
        "  XTX = X.T.dot(X)\n",
        "  XTX = XTX + r * np.eye(XTX.shape[0])\n",
        "  XTX_inv = np.linalg.inv(XTX)\n",
        "  w_full = XTX_inv.dot(X.T).dot(y)\n",
        "\n",
        "  return w_full[0], w_full[1:]\n"
      ],
      "execution_count": 7,
      "outputs": []
    },
    {
      "cell_type": "code",
      "metadata": {
        "id": "rbSBA_GSJaff"
      },
      "source": [
        "def rmse(y, y_pred):\n",
        "  se = (y - y_pred) ** 2\n",
        "  mse = se.mean()\n",
        "  return np.sqrt(mse)"
      ],
      "execution_count": 8,
      "outputs": []
    },
    {
      "cell_type": "code",
      "metadata": {
        "ExecuteTime": {
          "end_time": "2021-09-20T11:40:56.363892Z",
          "start_time": "2021-09-20T11:40:56.340305Z"
        },
        "colab": {
          "base_uri": "https://localhost:8080/"
        },
        "id": "ZWmcdV8oCopS",
        "outputId": "e6030255-4e53-4c44-9422-46be32974396"
      },
      "source": [
        "df.isna().sum()"
      ],
      "execution_count": 9,
      "outputs": [
        {
          "output_type": "execute_result",
          "data": {
            "text/plain": [
              "id                                    0\n",
              "name                                 16\n",
              "host_id                               0\n",
              "host_name                            21\n",
              "neighbourhood_group                   0\n",
              "neighbourhood                         0\n",
              "latitude                              0\n",
              "longitude                             0\n",
              "room_type                             0\n",
              "price                                 0\n",
              "minimum_nights                        0\n",
              "number_of_reviews                     0\n",
              "last_review                       10052\n",
              "reviews_per_month                 10052\n",
              "calculated_host_listings_count        0\n",
              "availability_365                      0\n",
              "dtype: int64"
            ]
          },
          "metadata": {},
          "execution_count": 9
        }
      ]
    },
    {
      "cell_type": "code",
      "metadata": {
        "id": "JRVqQcgFWtYx"
      },
      "source": [
        "df_train, df_val, df_test, y_train, y_val, y_test = shuffle(df)"
      ],
      "execution_count": 11,
      "outputs": []
    },
    {
      "cell_type": "code",
      "metadata": {
        "ExecuteTime": {
          "end_time": "2021-09-20T11:40:56.379032Z",
          "start_time": "2021-09-20T11:40:56.367939Z"
        },
        "colab": {
          "base_uri": "https://localhost:8080/"
        },
        "id": "CEQlajKkCopT",
        "outputId": "0d3d97b8-3cb4-4e42-bc01-eaeed8822218"
      },
      "source": [
        "df.minimum_nights.median()"
      ],
      "execution_count": 12,
      "outputs": [
        {
          "output_type": "execute_result",
          "data": {
            "text/plain": [
              "3.0"
            ]
          },
          "metadata": {},
          "execution_count": 12
        }
      ]
    },
    {
      "cell_type": "code",
      "metadata": {
        "ExecuteTime": {
          "end_time": "2021-09-20T11:41:31.319286Z",
          "start_time": "2021-09-20T11:41:31.312307Z"
        },
        "id": "ayfdoWB_CopX"
      },
      "source": [
        "X_mean = round(df_train.reviews_per_month.mean(), 2)"
      ],
      "execution_count": 13,
      "outputs": []
    },
    {
      "cell_type": "code",
      "metadata": {
        "id": "LE2allraPjhB"
      },
      "source": [
        "X_train_null = prepare_X(df_train)\n",
        "X_val_null = prepare_X(df_val)"
      ],
      "execution_count": 14,
      "outputs": []
    },
    {
      "cell_type": "code",
      "metadata": {
        "colab": {
          "base_uri": "https://localhost:8080/"
        },
        "id": "ac7seshmIraP",
        "outputId": "b99cfc1f-94bf-475d-d9f8-314dfd3d32fb"
      },
      "source": [
        "w0, w = train_linear_regression(X_train_null, y_train, r=0)\n",
        "y_pred = w0 + X_val_null.dot(w)\n",
        "rmse(y_val, y_pred)"
      ],
      "execution_count": 15,
      "outputs": [
        {
          "output_type": "execute_result",
          "data": {
            "text/plain": [
              "0.6430337788584176"
            ]
          },
          "metadata": {},
          "execution_count": 15
        }
      ]
    },
    {
      "cell_type": "code",
      "metadata": {
        "id": "bfDXm9vVQfCc"
      },
      "source": [
        "X_train_mean = prepare_X(df_train, na=X_mean)\n",
        "X_val_mean = prepare_X(df_val, na=X_mean)"
      ],
      "execution_count": 16,
      "outputs": []
    },
    {
      "cell_type": "code",
      "metadata": {
        "colab": {
          "base_uri": "https://localhost:8080/"
        },
        "id": "JO0RBrI9Q5vp",
        "outputId": "161a4329-e2d7-4950-d135-256184cc19ef"
      },
      "source": [
        "w0, w = train_linear_regression(X_train_mean, y_train, r=0)\n",
        "y_pred = w0 + X_val_mean.dot(w)\n",
        "rmse(y_val, y_pred)"
      ],
      "execution_count": 17,
      "outputs": [
        {
          "output_type": "execute_result",
          "data": {
            "text/plain": [
              "0.642754022673904"
            ]
          },
          "metadata": {},
          "execution_count": 17
        }
      ]
    },
    {
      "cell_type": "code",
      "metadata": {
        "colab": {
          "base_uri": "https://localhost:8080/"
        },
        "id": "CzAl__SzREhw",
        "outputId": "86915581-8056-47ef-e47e-7f681aa438d9"
      },
      "source": [
        "rs = [0, 0.000001, 0.0001, 0.001, 0.01, 0.1, 1, 5, 10]\n",
        "root_err = []\n",
        "for r in rs:\n",
        "  w0, w = train_linear_regression(X_train_null, y_train, r=r)\n",
        "  y_pred = w0 + X_val_null.dot(w)\n",
        "  root_err.append(round(rmse(y_val, y_pred), 2))\n",
        "rs[np.argmin(root_err)]\n",
        "#root_err\n"
      ],
      "execution_count": 18,
      "outputs": [
        {
          "output_type": "execute_result",
          "data": {
            "text/plain": [
              "0"
            ]
          },
          "metadata": {},
          "execution_count": 18
        }
      ]
    },
    {
      "cell_type": "code",
      "metadata": {
        "colab": {
          "base_uri": "https://localhost:8080/"
        },
        "id": "VjXzJ44eRf26",
        "outputId": "26c23440-7d61-41c0-ca6f-0a771f2fc93f"
      },
      "source": [
        "rm_seeds = [0, 1, 2, 3, 4, 5, 6, 7, 8, 9]\n",
        "root_err = []\n",
        "for rm in rm_seeds:\n",
        "  df_train, df_val, df_test, y_train, y_val, y_test = shuffle(df, seed=rm)\n",
        "  X_train_null = prepare_X(df_train)\n",
        "  X_val_null = prepare_X(df_val)\n",
        "  w0, w = train_linear_regression(X_train_null, y_train, r=0)\n",
        "  y_pred = w0 + X_val_null.dot(w)\n",
        "  root_err.append(rmse(y_val, y_pred))\n",
        "round(np.std(root_err), 3)"
      ],
      "execution_count": 19,
      "outputs": [
        {
          "output_type": "execute_result",
          "data": {
            "text/plain": [
              "0.008"
            ]
          },
          "metadata": {},
          "execution_count": 19
        }
      ]
    },
    {
      "cell_type": "code",
      "metadata": {
        "id": "YMBgWFVIXY3A"
      },
      "source": [
        "df_train, df_val, df_test, y_train, y_val, y_test = shuffle(df, seed=9)\n",
        "df_full = pd.concat([df_train, df_val])\n",
        "y_full = np.hstack([y_train, y_val])"
      ],
      "execution_count": 20,
      "outputs": []
    },
    {
      "cell_type": "code",
      "metadata": {
        "colab": {
          "base_uri": "https://localhost:8080/"
        },
        "id": "nrsPOiybXhOl",
        "outputId": "45ff9afe-9bec-4b55-d574-187b11cd859a"
      },
      "source": [
        "X_train_null = prepare_X(df_full)\n",
        "X_test_null = prepare_X(df_test)\n",
        "w0, w = train_linear_regression(X_train_null, y_full, r=0.001)\n",
        "y_pred = w0 + X_test_null.dot(w)\n",
        "round(rmse(y_test, y_pred), 2)"
      ],
      "execution_count": 21,
      "outputs": [
        {
          "output_type": "execute_result",
          "data": {
            "text/plain": [
              "0.65"
            ]
          },
          "metadata": {},
          "execution_count": 21
        }
      ]
    },
    {
      "cell_type": "code",
      "metadata": {
        "id": "TOzfknSeXzS4"
      },
      "source": [
        ""
      ],
      "execution_count": null,
      "outputs": []
    }
  ]
}